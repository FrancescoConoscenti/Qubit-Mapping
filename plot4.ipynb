{
 "cells": [
  {
   "cell_type": "code",
   "execution_count": null,
   "metadata": {},
   "outputs": [],
   "source": [
    "import matplotlib.pyplot as plt\n",
    "import numpy as np\n",
    "from scipy.optimize import curve_fit\n",
    "\n",
    "# Define explicit x and y values for the three datasets\n",
    "x_values = [3,                 5,                 7,          9,             15]\n",
    "lin_smt = [ 0, 16.054494 ,57.930138,0,0             ]\n",
    "heuristic = [0.000158, 0.000416, 0.003550, 0.007493, 0.078913]\n",
    "ilp = [0.025904,0.080955, 0.201697, 0.440348, 3.462632]\n",
    "sabre = [0.038419,0.060893, 0.051306,0.217870,0.106533]\n",
    "\n",
    "\n",
    "# Define the width of the bars\n",
    "bar_width = 0.15\n",
    "\n",
    "# Create an array of x positions for the first set of bars\n",
    "r1 = np.arange(len(x_values))\n",
    "\n",
    "# Create arrays of x positions for the second and third sets of bars, offset by the bar width\n",
    "r2 = [x + bar_width for x in r1]\n",
    "r3 = [x + bar_width for x in r2]\n",
    "r4 = [x + bar_width for x in r3]\n",
    "\n",
    "\n",
    "# Create the bar plot\n",
    "plt.bar(r1, lin_smt, color='green', width=bar_width, label='Lin SMT')\n",
    "plt.bar(r2, ilp, color='blue', width=bar_width,  label='ILP')\n",
    "plt.bar(r3, heuristic, color='orange', width=bar_width, label='Heuristic')\n",
    "plt.bar(r4, sabre, color='purple', width=bar_width, label='SABRE')\n",
    "\n",
    "\n",
    "\n",
    "plt.yscale('log')\n",
    "\n",
    "# Add labels and title\n",
    "plt.xlabel('Number of Qubits', )\n",
    "plt.ylabel('Time [lg(s)]')\n",
    "plt.title('Execution time')\n",
    "plt.xticks([r + bar_width for r in range(len(x_values))], x_values)\n",
    "\n",
    "# Add legend\n",
    "plt.legend()\n",
    "\n",
    "# Show the plot\n",
    "plt.show()"
   ]
  }
 ],
 "metadata": {
  "language_info": {
   "name": "python"
  }
 },
 "nbformat": 4,
 "nbformat_minor": 2
}
