{
  "cells": [
    {
      "cell_type": "markdown",
      "metadata": {
        "id": "D_uL4wYQyhcB"
      },
      "source": [
        "**OLSQ DAC'22 tutorial**\n",
        "\n",
        "It is recommended to pull OLSQ from [our GitHub repo](https://github.com/UCLA-VAST/OLSQ) becasue it is often more up-to-date, and there are more branches containing research progress.\n",
        "However, we upload OLSQ to Python Package Index (`pip`) as well, which we use here."
      ]
    },
    {
      "cell_type": "code",
      "execution_count": 1,
      "metadata": {
        "colab": {
          "base_uri": "https://localhost:8080/"
        },
        "id": "a4s1m2LMv6rI",
        "outputId": "6c0f144d-2684-4f2c-8911-860d625e1625"
      },
      "outputs": [
        {
          "name": "stdout",
          "output_type": "stream",
          "text": [
            "Collecting OLSQ\n",
            "  Downloading olsq-0.0.4.1.tar.gz (27 kB)\n",
            "  Preparing metadata (setup.py): started\n",
            "  Preparing metadata (setup.py): finished with status 'done'\n",
            "Requirement already satisfied: networkx>=2.5 in c:\\users\\conof\\appdata\\local\\programs\\python\\python39\\lib\\site-packages (from OLSQ) (3.2.1)\n",
            "Collecting z3-solver>=4.8.9.0 (from OLSQ)\n",
            "  Downloading z3_solver-4.13.0.0-py2.py3-none-win_amd64.whl.metadata (757 bytes)\n",
            "Downloading z3_solver-4.13.0.0-py2.py3-none-win_amd64.whl (58.4 MB)\n",
            "   ---------------------------------------- 0.0/58.4 MB ? eta -:--:--\n",
            "   ---------------------------------------- 0.3/58.4 MB 9.9 MB/s eta 0:00:06\n",
            "    --------------------------------------- 0.8/58.4 MB 12.7 MB/s eta 0:00:05\n",
            "    --------------------------------------- 1.3/58.4 MB 12.0 MB/s eta 0:00:05\n",
            "   - -------------------------------------- 1.9/58.4 MB 13.5 MB/s eta 0:00:05\n",
            "   - -------------------------------------- 2.4/58.4 MB 14.1 MB/s eta 0:00:04\n",
            "   - -------------------------------------- 2.9/58.4 MB 13.1 MB/s eta 0:00:05\n",
            "   -- ------------------------------------- 3.4/58.4 MB 13.6 MB/s eta 0:00:05\n",
            "   -- ------------------------------------- 3.9/58.4 MB 13.2 MB/s eta 0:00:05\n",
            "   --- ------------------------------------ 4.4/58.4 MB 13.5 MB/s eta 0:00:04\n",
            "   --- ------------------------------------ 5.1/58.4 MB 14.2 MB/s eta 0:00:04\n",
            "   --- ------------------------------------ 5.7/58.4 MB 14.0 MB/s eta 0:00:04\n",
            "   ---- ----------------------------------- 6.1/58.4 MB 14.5 MB/s eta 0:00:04\n",
            "   ---- ----------------------------------- 6.7/58.4 MB 14.4 MB/s eta 0:00:04\n",
            "   ----- ---------------------------------- 7.5/58.4 MB 14.5 MB/s eta 0:00:04\n",
            "   ----- ---------------------------------- 8.0/58.4 MB 14.7 MB/s eta 0:00:04\n",
            "   ----- ---------------------------------- 8.5/58.4 MB 14.4 MB/s eta 0:00:04\n",
            "   ------ --------------------------------- 9.4/58.4 MB 15.0 MB/s eta 0:00:04\n",
            "   ------ --------------------------------- 10.1/58.4 MB 15.3 MB/s eta 0:00:04\n",
            "   ------- -------------------------------- 10.8/58.4 MB 15.6 MB/s eta 0:00:04\n",
            "   ------- -------------------------------- 11.2/58.4 MB 16.0 MB/s eta 0:00:03\n",
            "   -------- ------------------------------- 11.9/58.4 MB 15.6 MB/s eta 0:00:03\n",
            "   -------- ------------------------------- 12.6/58.4 MB 16.0 MB/s eta 0:00:03\n",
            "   -------- ------------------------------- 13.1/58.4 MB 16.4 MB/s eta 0:00:03\n",
            "   --------- ------------------------------ 13.8/58.4 MB 16.4 MB/s eta 0:00:03\n",
            "   --------- ------------------------------ 14.3/58.4 MB 16.4 MB/s eta 0:00:03\n",
            "   ---------- ----------------------------- 15.0/58.4 MB 16.4 MB/s eta 0:00:03\n",
            "   ---------- ----------------------------- 15.7/58.4 MB 16.8 MB/s eta 0:00:03\n",
            "   ----------- ---------------------------- 16.1/58.4 MB 16.4 MB/s eta 0:00:03\n",
            "   ----------- ---------------------------- 16.9/58.4 MB 16.4 MB/s eta 0:00:03\n",
            "   ----------- ---------------------------- 17.2/58.4 MB 16.4 MB/s eta 0:00:03\n",
            "   ------------ --------------------------- 17.8/58.4 MB 16.4 MB/s eta 0:00:03\n",
            "   ------------ --------------------------- 18.5/58.4 MB 16.4 MB/s eta 0:00:03\n",
            "   ------------- -------------------------- 19.0/58.4 MB 16.4 MB/s eta 0:00:03\n",
            "   ------------- -------------------------- 19.7/58.4 MB 16.4 MB/s eta 0:00:03\n",
            "   ------------- -------------------------- 20.2/58.4 MB 16.0 MB/s eta 0:00:03\n",
            "   -------------- ------------------------- 20.9/58.4 MB 16.0 MB/s eta 0:00:03\n",
            "   -------------- ------------------------- 21.3/58.4 MB 15.6 MB/s eta 0:00:03\n",
            "   --------------- ------------------------ 22.1/58.4 MB 16.4 MB/s eta 0:00:03\n",
            "   --------------- ------------------------ 22.9/58.4 MB 16.4 MB/s eta 0:00:03\n",
            "   --------------- ------------------------ 23.2/58.4 MB 16.0 MB/s eta 0:00:03\n",
            "   ---------------- ----------------------- 24.0/58.4 MB 16.4 MB/s eta 0:00:03\n",
            "   ---------------- ----------------------- 24.4/58.4 MB 16.0 MB/s eta 0:00:03\n",
            "   ----------------- ---------------------- 25.1/58.4 MB 16.0 MB/s eta 0:00:03\n",
            "   ----------------- ---------------------- 25.8/58.4 MB 16.0 MB/s eta 0:00:03\n",
            "   ------------------ --------------------- 26.3/58.4 MB 16.0 MB/s eta 0:00:03\n",
            "   ------------------ --------------------- 27.1/58.4 MB 16.0 MB/s eta 0:00:02\n",
            "   ------------------ --------------------- 27.5/58.4 MB 16.0 MB/s eta 0:00:02\n",
            "   ------------------- -------------------- 28.2/58.4 MB 16.4 MB/s eta 0:00:02\n",
            "   ------------------- -------------------- 28.8/58.4 MB 16.8 MB/s eta 0:00:02\n",
            "   -------------------- ------------------- 29.4/58.4 MB 16.4 MB/s eta 0:00:02\n",
            "   -------------------- ------------------- 30.2/58.4 MB 17.2 MB/s eta 0:00:02\n",
            "   --------------------- ------------------ 30.7/58.4 MB 16.4 MB/s eta 0:00:02\n",
            "   --------------------- ------------------ 31.2/58.4 MB 16.4 MB/s eta 0:00:02\n",
            "   --------------------- ------------------ 31.7/58.4 MB 16.4 MB/s eta 0:00:02\n",
            "   ---------------------- ----------------- 32.5/58.4 MB 16.4 MB/s eta 0:00:02\n",
            "   ---------------------- ----------------- 33.2/58.4 MB 16.8 MB/s eta 0:00:02\n",
            "   ----------------------- ---------------- 33.7/58.4 MB 16.4 MB/s eta 0:00:02\n",
            "   ----------------------- ---------------- 34.4/58.4 MB 16.8 MB/s eta 0:00:02\n",
            "   ----------------------- ---------------- 34.8/58.4 MB 16.4 MB/s eta 0:00:02\n",
            "   ------------------------ --------------- 35.5/58.4 MB 16.4 MB/s eta 0:00:02\n",
            "   ------------------------ --------------- 36.1/58.4 MB 16.8 MB/s eta 0:00:02\n",
            "   ------------------------- -------------- 36.6/58.4 MB 16.4 MB/s eta 0:00:02\n",
            "   ------------------------- -------------- 37.2/58.4 MB 16.0 MB/s eta 0:00:02\n",
            "   ------------------------- -------------- 37.7/58.4 MB 16.0 MB/s eta 0:00:02\n",
            "   -------------------------- ------------- 38.3/58.4 MB 16.0 MB/s eta 0:00:02\n",
            "   -------------------------- ------------- 38.9/58.4 MB 16.4 MB/s eta 0:00:02\n",
            "   --------------------------- ------------ 39.4/58.4 MB 15.6 MB/s eta 0:00:02\n",
            "   --------------------------- ------------ 40.2/58.4 MB 16.0 MB/s eta 0:00:02\n",
            "   --------------------------- ------------ 40.7/58.4 MB 16.4 MB/s eta 0:00:02\n",
            "   ---------------------------- ----------- 41.3/58.4 MB 16.0 MB/s eta 0:00:02\n",
            "   ---------------------------- ----------- 41.7/58.4 MB 15.6 MB/s eta 0:00:02\n",
            "   ----------------------------- ---------- 42.5/58.4 MB 15.6 MB/s eta 0:00:02\n",
            "   ----------------------------- ---------- 43.3/58.4 MB 16.0 MB/s eta 0:00:01\n",
            "   ----------------------------- ---------- 43.6/58.4 MB 16.0 MB/s eta 0:00:01\n",
            "   ------------------------------ --------- 44.0/58.4 MB 15.6 MB/s eta 0:00:01\n",
            "   ------------------------------ --------- 44.0/58.4 MB 15.2 MB/s eta 0:00:01\n",
            "   ------------------------------ --------- 44.0/58.4 MB 15.2 MB/s eta 0:00:01\n",
            "   ------------------------------ --------- 44.0/58.4 MB 15.2 MB/s eta 0:00:01\n",
            "   ------------------------------ --------- 44.1/58.4 MB 12.6 MB/s eta 0:00:02\n",
            "   ------------------------------ --------- 44.7/58.4 MB 12.6 MB/s eta 0:00:02\n",
            "   ------------------------------- -------- 45.5/58.4 MB 12.8 MB/s eta 0:00:02\n",
            "   ------------------------------- -------- 45.8/58.4 MB 12.6 MB/s eta 0:00:01\n",
            "   ------------------------------- -------- 46.5/58.4 MB 12.8 MB/s eta 0:00:01\n",
            "   -------------------------------- ------- 47.0/58.4 MB 13.1 MB/s eta 0:00:01\n",
            "   -------------------------------- ------- 47.6/58.4 MB 13.1 MB/s eta 0:00:01\n",
            "   --------------------------------- ------ 48.3/58.4 MB 12.8 MB/s eta 0:00:01\n",
            "   --------------------------------- ------ 48.8/58.4 MB 12.6 MB/s eta 0:00:01\n",
            "   --------------------------------- ------ 49.5/58.4 MB 13.1 MB/s eta 0:00:01\n",
            "   ---------------------------------- ----- 49.8/58.4 MB 12.6 MB/s eta 0:00:01\n",
            "   ---------------------------------- ----- 50.4/58.4 MB 12.6 MB/s eta 0:00:01\n",
            "   ---------------------------------- ----- 50.7/58.4 MB 12.4 MB/s eta 0:00:01\n",
            "   ---------------------------------- ----- 51.0/58.4 MB 12.1 MB/s eta 0:00:01\n",
            "   ----------------------------------- ---- 51.6/58.4 MB 12.1 MB/s eta 0:00:01\n",
            "   ----------------------------------- ---- 52.0/58.4 MB 11.9 MB/s eta 0:00:01\n",
            "   ----------------------------------- ---- 52.3/58.4 MB 11.9 MB/s eta 0:00:01\n",
            "   ------------------------------------ --- 52.9/58.4 MB 11.7 MB/s eta 0:00:01\n",
            "   ------------------------------------ --- 53.3/58.4 MB 11.5 MB/s eta 0:00:01\n",
            "   ------------------------------------ --- 53.8/58.4 MB 11.5 MB/s eta 0:00:01\n",
            "   ------------------------------------- -- 54.3/58.4 MB 13.4 MB/s eta 0:00:01\n",
            "   ------------------------------------- -- 54.6/58.4 MB 13.4 MB/s eta 0:00:01\n",
            "   ------------------------------------- -- 55.1/58.4 MB 13.4 MB/s eta 0:00:01\n",
            "   -------------------------------------- - 55.7/58.4 MB 13.1 MB/s eta 0:00:01\n",
            "   -------------------------------------- - 56.1/58.4 MB 13.1 MB/s eta 0:00:01\n",
            "   -------------------------------------- - 56.5/58.4 MB 12.8 MB/s eta 0:00:01\n",
            "   ---------------------------------------  57.2/58.4 MB 12.8 MB/s eta 0:00:01\n",
            "   ---------------------------------------  57.6/58.4 MB 13.1 MB/s eta 0:00:01\n",
            "   ---------------------------------------  57.9/58.4 MB 12.6 MB/s eta 0:00:01\n",
            "   ---------------------------------------  58.4/58.4 MB 12.6 MB/s eta 0:00:01\n",
            "   ---------------------------------------  58.4/58.4 MB 12.6 MB/s eta 0:00:01\n",
            "   ---------------------------------------  58.4/58.4 MB 12.6 MB/s eta 0:00:01\n",
            "   ---------------------------------------  58.4/58.4 MB 12.6 MB/s eta 0:00:01\n",
            "   ---------------------------------------  58.4/58.4 MB 12.6 MB/s eta 0:00:01\n",
            "   ---------------------------------------  58.4/58.4 MB 12.6 MB/s eta 0:00:01\n",
            "   ---------------------------------------  58.4/58.4 MB 12.6 MB/s eta 0:00:01\n",
            "   ---------------------------------------  58.4/58.4 MB 12.6 MB/s eta 0:00:01\n",
            "   ---------------------------------------  58.4/58.4 MB 12.6 MB/s eta 0:00:01\n",
            "   ---------------------------------------  58.4/58.4 MB 12.6 MB/s eta 0:00:01\n",
            "   ---------------------------------------  58.4/58.4 MB 12.6 MB/s eta 0:00:01\n",
            "   ---------------------------------------  58.4/58.4 MB 12.6 MB/s eta 0:00:01\n",
            "   ---------------------------------------  58.4/58.4 MB 12.6 MB/s eta 0:00:01\n",
            "   ---------------------------------------- 58.4/58.4 MB 8.0 MB/s eta 0:00:00\n",
            "Building wheels for collected packages: OLSQ\n",
            "  Building wheel for OLSQ (setup.py): started\n",
            "  Building wheel for OLSQ (setup.py): finished with status 'done'\n",
            "  Created wheel for OLSQ: filename=olsq-0.0.4.1-py3-none-any.whl size=32651 sha256=1886abd860f21b54751d980d9b23afa4cf40b166a9f60fb73633319859c6db5f\n",
            "  Stored in directory: c:\\users\\conof\\appdata\\local\\pip\\cache\\wheels\\ce\\bb\\ba\\d45ecb917c13623a515fe514c251b59479955cd46ad2d2df34\n",
            "Successfully built OLSQ\n",
            "Installing collected packages: z3-solver, OLSQ\n",
            "Successfully installed OLSQ-0.0.4.1 z3-solver-4.13.0.0\n"
          ]
        }
      ],
      "source": [
        "!pip install OLSQ"
      ]
    },
    {
      "cell_type": "markdown",
      "metadata": {
        "id": "uOEIxpKOyIwR"
      },
      "source": [
        "The name of the package is `OLSQ`; the name of the module is `olsq`; and the name of the main solver class is `OLSQ`.\n",
        "Additionally, we need to import a class `qcdevice` to load hardware information."
      ]
    },
    {
      "cell_type": "code",
      "execution_count": null,
      "metadata": {
        "id": "8H666nqHwK7B"
      },
      "outputs": [],
      "source": [
        "from olsq import OLSQ \n",
        "from olsq.device import qcdevice"
      ]
    },
    {
      "cell_type": "markdown",
      "metadata": {
        "id": "4yAKEp-Vz-4s"
      },
      "source": [
        "We initiate the solver with an **objective** and a **mode**.\n",
        "The objective can be `depth`, `swap`, or `fidelity`.\n",
        "The mode can be `normal` or `transition`."
      ]
    },
    {
      "cell_type": "code",
      "execution_count": 3,
      "metadata": {
        "id": "XnY6TSNCwePd"
      },
      "outputs": [],
      "source": [
        "solver = OLSQ(\"depth\", \"normal\")"
      ]
    },
    {
      "cell_type": "markdown",
      "metadata": {
        "id": "7P21UOEE0hsO"
      },
      "source": [
        "We construct a `qcdevice` object containing hardware information.\n",
        "The arguments are: name, number of qubits (`nqubits`), list of edges between the qubits (`connection`), and duration of a SWAP gate (`swap_duration`).\n",
        "In our case, the QPU has five qubits connected in a 'bowtie' pattern.\n",
        "We assume a SWAP is decomposed to three CNOTs.\n",
        "\n",
        "<img src=\"https://github.com/tbcdebug/OLSQ/blob/master/dac22/bowtie.png?raw=1\" width=\"300\">"
      ]
    },
    {
      "cell_type": "code",
      "execution_count": 4,
      "metadata": {
        "id": "9_YGnuqnxsKY"
      },
      "outputs": [],
      "source": [
        "bowtie_connections = [(0,1), (0,2), (1,2), (2,3), (2,4), (3,4)]\n",
        "bowtie_dev = qcdevice(\"bowtie\", nqubits=5, connection=bowtie_connections, \n",
        "                  swap_duration=3)\n",
        "\n",
        "solver.setdevice(bowtie_dev)"
      ]
    },
    {
      "cell_type": "markdown",
      "metadata": {
        "id": "zFTQ5PM4wiuV"
      },
      "source": [
        "We specify a program to compile with the intermediate representation of OLSQ consisting of three objects: number of physical qubits, a list of qubits involved in each gate (`gate_qubits`), and a list of specifications of these gates (`gate_name`).\n",
        "In `gate_qubits`, every element is a tuple: if the gate is on one qubit, the tuple has only one elements, otherwise the tuple has two elements.\n",
        "`gate_name` keeps all other information and is not involved in the solving process."
      ]
    },
    {
      "cell_type": "code",
      "execution_count": 5,
      "metadata": {
        "id": "SUGsdy-a3BOe"
      },
      "outputs": [],
      "source": [
        "gate_qubits = [(0,), (1,), (3,), (2,3), (0,), (1,), (2,), (3,), (0,1), (2,3),\n",
        "               (3,0), (1,2), (0,1), (2,3), (0,), (1,), (2,), (3,), (0,1), (2,3),\n",
        "               (3,), (3,0), (3,)]\n",
        "\n",
        "gate_name = [\"x\", \"x\", \"h\", \"cnot\", \"t\", \"t\", \"t\", \"tdg\", \"cnot\", \"cnot\", \n",
        "             \"cnot\", \"cnot\", \"cnot\", \"cnot\", \"tdg\", \"tdg\", \"tdg\", \"t\", \"cnot\",\n",
        "             \"cnot\", \"s\", \"cnot\", \"h\"]\n",
        "\n",
        "solver.setprogram([4, gate_qubits, gate_name], input_mode=\"IR\")"
      ]
    },
    {
      "cell_type": "markdown",
      "metadata": {
        "id": "BxZgkP2VwiuW"
      },
      "source": [
        "The circuit diagram of this quantum program is shown below.\n",
        "We can compare it with the output in the following cell.\n",
        "\n",
        "<img src=\"https://github.com/tbcdebug/OLSQ/blob/master/dac22/adder.png?raw=1\" width=\"750\">"
      ]
    },
    {
      "cell_type": "code",
      "execution_count": 6,
      "metadata": {
        "colab": {
          "base_uri": "https://localhost:8080/"
        },
        "id": "LKrNIAdR4UQ9",
        "outputId": "3df125d6-19dd-4ffe-e535-c779fc261880"
      },
      "outputs": [
        {
          "name": "stdout",
          "output_type": "stream",
          "text": [
            "g0 x q0\n",
            "g1 x q1\n",
            "g2 h q3\n",
            "g3 cnot q2 q3\n",
            "g4 t q0\n",
            "g5 t q1\n",
            "g6 t q2\n",
            "g7 tdg q3\n",
            "g8 cnot q0 q1\n",
            "g9 cnot q2 q3\n",
            "g10 cnot q3 q0\n",
            "g11 cnot q1 q2\n",
            "g12 cnot q0 q1\n",
            "g13 cnot q2 q3\n",
            "g14 tdg q0\n",
            "g15 tdg q1\n",
            "g16 tdg q2\n",
            "g17 t q3\n",
            "g18 cnot q0 q1\n",
            "g19 cnot q2 q3\n",
            "g20 s q3\n",
            "g21 cnot q3 q0\n",
            "g22 h q3\n"
          ]
        }
      ],
      "source": [
        "# print out the OLSQ IR\n",
        "for i in range(len(gate_qubits)):\n",
        "    if len(gate_qubits[i]) == 1:\n",
        "        print(f\"g{i} {gate_name[i]} q{gate_qubits[i][0]}\")\n",
        "    else:\n",
        "        print(f\"g{i} {gate_name[i]} q{gate_qubits[i][0]} q{gate_qubits[i][1]}\")"
      ]
    },
    {
      "cell_type": "markdown",
      "metadata": {
        "id": "WM-iEKWiwiuW"
      },
      "source": [
        "Solve the problem with `solve()` method.\n",
        "It will try to increase the depth limit if no solution is found under the current limit.\n",
        "The return value contains the five objects below.\n",
        "There will also be some information about the results printed out."
      ]
    },
    {
      "cell_type": "code",
      "execution_count": 7,
      "metadata": {
        "colab": {
          "base_uri": "https://localhost:8080/"
        },
        "id": "OPCGe9Wb8zDp",
        "outputId": "35f64cdc-ec18-4f2e-a9a7-cac7ed32a4b4"
      },
      "outputs": [
        {
          "name": "stdout",
          "output_type": "stream",
          "text": [
            "Trying maximal depth = 11...\n",
            "Trying maximal depth = 14...\n",
            "Trying maximal depth = 18...\n",
            "Compilation time = 0:00:32.575355.\n",
            "SWAP on physical edge (0,2) at time 7\n",
            "Gate 0: x 0 on qubit 4 at time 0\n",
            "Gate 1: x 1 on qubit 3 at time 0\n",
            "Gate 2: h 3 on qubit 0 at time 0\n",
            "Gate 3: cnot 2, 3 on qubits 2 and 0 at time 1\n",
            "Gate 4: t 0 on qubit 4 at time 1\n",
            "Gate 5: t 1 on qubit 3 at time 1\n",
            "Gate 6: t 2 on qubit 2 at time 2\n",
            "Gate 7: tdg 3 on qubit 0 at time 2\n",
            "Gate 8: cnot 0, 1 on qubits 4 and 3 at time 2\n",
            "Gate 9: cnot 2, 3 on qubits 2 and 0 at time 3\n",
            "Gate 10: cnot 3, 0 on qubits 2 and 4 at time 8\n",
            "Gate 11: cnot 1, 2 on qubits 3 and 2 at time 4\n",
            "Gate 12: cnot 0, 1 on qubits 4 and 3 at time 9\n",
            "Gate 13: cnot 2, 3 on qubits 0 and 2 at time 9\n",
            "Gate 14: tdg 0 on qubit 4 at time 10\n",
            "Gate 15: tdg 1 on qubit 3 at time 10\n",
            "Gate 16: tdg 2 on qubit 0 at time 10\n",
            "Gate 17: t 3 on qubit 2 at time 10\n",
            "Gate 18: cnot 0, 1 on qubits 4 and 3 at time 11\n",
            "Gate 19: cnot 2, 3 on qubits 0 and 2 at time 11\n",
            "Gate 20: s 3 on qubit 2 at time 12\n",
            "Gate 21: cnot 3, 0 on qubits 2 and 4 at time 13\n",
            "Gate 22: h 3 on qubit 2 at time 14\n",
            "result circuit depth = 15.\n"
          ]
        }
      ],
      "source": [
        "result_depth, list_scheduled_gate_name, list_scheduled_gate_qubits,\\\n",
        "final_mapping, objective_value = solver.solve(output_mode=\"IR\")"
      ]
    },
    {
      "cell_type": "code",
      "execution_count": 8,
      "metadata": {
        "colab": {
          "base_uri": "https://localhost:8080/"
        },
        "id": "0INl7dFvwiuW",
        "outputId": "f1985b51-c1f0-4f45-9cf4-1c42c31f622b"
      },
      "outputs": [
        {
          "name": "stdout",
          "output_type": "stream",
          "text": [
            "objective value: 15\n",
            "\n",
            "program:\n",
            "time 0:\n",
            "    x p4\n",
            "    x p3\n",
            "    h p0\n",
            "time 1:\n",
            "    cnot p2 p0 \n",
            "    t p4\n",
            "    t p3\n",
            "time 2:\n",
            "    t p2\n",
            "    tdg p0\n",
            "    cnot p4 p3 \n",
            "time 3:\n",
            "    cnot p2 p0 \n",
            "time 4:\n",
            "    cnot p3 p2 \n",
            "time 5:\n",
            "    cx p0 p2 \n",
            "time 6:\n",
            "    cx p2 p0 \n",
            "time 7:\n",
            "    cx p0 p2 \n",
            "time 8:\n",
            "    cnot p2 p4 \n",
            "time 9:\n",
            "    cnot p4 p3 \n",
            "    cnot p0 p2 \n",
            "time 10:\n",
            "    tdg p4\n",
            "    tdg p3\n",
            "    tdg p0\n",
            "    t p2\n",
            "time 11:\n",
            "    cnot p4 p3 \n",
            "    cnot p0 p2 \n",
            "time 12:\n",
            "    s p2\n",
            "time 13:\n",
            "    cnot p2 p4 \n",
            "time 14:\n",
            "    h p2\n",
            "\n",
            "final_mapping\n",
            "q0 -> p4\n",
            "q1 -> p3\n",
            "q2 -> p0\n",
            "q3 -> p2\n"
          ]
        }
      ],
      "source": [
        "# making use of the return values to print circuit in a more friendly way\n",
        "print(f\"objective value: {objective_value}\")\n",
        "print(\"\\nprogram:\")\n",
        "for t in range(result_depth):\n",
        "    print(f\"time {t}:\")\n",
        "    for i in range(len(list_scheduled_gate_name[t])):\n",
        "        if len(list_scheduled_gate_qubits[t][i]) == 1:\n",
        "            print(f\"    {list_scheduled_gate_name[t][i]} \" +\n",
        "                  f\"p{list_scheduled_gate_qubits[t][i][0]}\")\n",
        "        else:\n",
        "            print(f\"    {list_scheduled_gate_name[t][i]} \" +\n",
        "                  f\"p{list_scheduled_gate_qubits[t][i][0]} \" +\n",
        "                  f\"p{list_scheduled_gate_qubits[t][i][1]} \")\n",
        "print(\"\\nfinal_mapping\")\n",
        "for i, j in enumerate(final_mapping):\n",
        "    print(f\"q{i} -> p{j}\")"
      ]
    },
    {
      "cell_type": "code",
      "execution_count": 9,
      "metadata": {
        "colab": {
          "base_uri": "https://localhost:8080/"
        },
        "id": "DA7Ouuka9HDZ",
        "outputId": "30e0c8e9-6dd3-47e5-f4ac-cd72f2aa4b0b"
      },
      "outputs": [
        {
          "name": "stdout",
          "output_type": "stream",
          "text": [
            "Trying maximal depth = 11...\n",
            "Trying maximal depth = 14...\n",
            "Trying maximal depth = 18...\n",
            "Compilation time = 0:00:35.313887.\n",
            "SWAP on physical edge (0,2) at time 10\n",
            "Gate 0: x 0 on qubit 3 at time 0\n",
            "Gate 1: x 1 on qubit 4 at time 0\n",
            "Gate 2: h 3 on qubit 0 at time 0\n",
            "Gate 3: cnot 2, 3 on qubits 2 and 0 at time 1\n",
            "Gate 4: t 0 on qubit 3 at time 1\n",
            "Gate 5: t 1 on qubit 4 at time 1\n",
            "Gate 6: t 2 on qubit 2 at time 2\n",
            "Gate 7: tdg 3 on qubit 0 at time 2\n",
            "Gate 8: cnot 0, 1 on qubits 3 and 4 at time 2\n",
            "Gate 9: cnot 2, 3 on qubits 2 and 0 at time 4\n",
            "Gate 10: cnot 3, 0 on qubits 2 and 3 at time 11\n",
            "Gate 11: cnot 1, 2 on qubits 4 and 2 at time 6\n",
            "Gate 12: cnot 0, 1 on qubits 3 and 4 at time 12\n",
            "Gate 13: cnot 2, 3 on qubits 0 and 2 at time 12\n",
            "Gate 14: tdg 0 on qubit 3 at time 13\n",
            "Gate 15: tdg 1 on qubit 4 at time 13\n",
            "Gate 16: tdg 2 on qubit 0 at time 13\n",
            "Gate 17: t 3 on qubit 2 at time 13\n",
            "Gate 18: cnot 0, 1 on qubits 3 and 4 at time 14\n",
            "Gate 19: cnot 2, 3 on qubits 0 and 2 at time 14\n",
            "Gate 20: s 3 on qubit 2 at time 15\n",
            "Gate 21: cnot 3, 0 on qubits 2 and 3 at time 16\n",
            "Gate 22: h 3 on qubit 2 at time 17\n",
            "result additional SWAP count = 1.\n"
          ]
        }
      ],
      "source": [
        "# setting the objective to swap and try again\n",
        "solver_swap = OLSQ(\"swap\", \"normal\")\n",
        "solver_swap.setdevice(bowtie_dev)\n",
        "solver_swap.setprogram([4, gate_qubits, gate_name], input_mode=\"IR\")\n",
        "results_swap = solver_swap.solve(output_mode=\"IR\")"
      ]
    },
    {
      "cell_type": "code",
      "execution_count": 10,
      "metadata": {
        "colab": {
          "base_uri": "https://localhost:8080/"
        },
        "id": "HpCXpfte9fZ8",
        "outputId": "21fca7a2-14c1-43c8-92be-3105ee428cf2"
      },
      "outputs": [
        {
          "name": "stdout",
          "output_type": "stream",
          "text": [
            "Trying maximal depth = 1...\n",
            "Trying maximal depth = 2...\n",
            "Compilation time = 0:00:00.381027.\n",
            "SWAP on physical edge (2,4) at time 0\n",
            "Gate 0: x 0 on qubit 1 at time 0\n",
            "Gate 1: x 1 on qubit 0 at time 0\n",
            "Gate 2: h 3 on qubit 4 at time 0\n",
            "Gate 3: cnot 2, 3 on qubits 2 and 4 at time 0\n",
            "Gate 4: t 0 on qubit 1 at time 0\n",
            "Gate 5: t 1 on qubit 0 at time 0\n",
            "Gate 6: t 2 on qubit 2 at time 0\n",
            "Gate 7: tdg 3 on qubit 4 at time 0\n",
            "Gate 8: cnot 0, 1 on qubits 1 and 0 at time 0\n",
            "Gate 9: cnot 2, 3 on qubits 2 and 4 at time 0\n",
            "Gate 10: cnot 3, 0 on qubits 2 and 1 at time 1\n",
            "Gate 11: cnot 1, 2 on qubits 0 and 2 at time 0\n",
            "Gate 12: cnot 0, 1 on qubits 1 and 0 at time 1\n",
            "Gate 13: cnot 2, 3 on qubits 4 and 2 at time 1\n",
            "Gate 14: tdg 0 on qubit 1 at time 1\n",
            "Gate 15: tdg 1 on qubit 0 at time 1\n",
            "Gate 16: tdg 2 on qubit 4 at time 1\n",
            "Gate 17: t 3 on qubit 2 at time 1\n",
            "Gate 18: cnot 0, 1 on qubits 1 and 0 at time 1\n",
            "Gate 19: cnot 2, 3 on qubits 4 and 2 at time 1\n",
            "Gate 20: s 3 on qubit 2 at time 1\n",
            "Gate 21: cnot 3, 0 on qubits 2 and 1 at time 1\n",
            "Gate 22: h 3 on qubit 2 at time 1\n",
            "result additional SWAP count = 1.\n"
          ]
        }
      ],
      "source": [
        "# use the transition-based model, should run much faster\n",
        "solver_transition = OLSQ(\"swap\", \"transition\")\n",
        "solver_transition.setdevice(bowtie_dev)\n",
        "solver_transition.setprogram([4, gate_qubits, gate_name], input_mode=\"IR\")\n",
        "results_transition = solver_transition.solve(output_mode=\"IR\")"
      ]
    },
    {
      "cell_type": "markdown",
      "metadata": {
        "id": "a3fFhLLhR-_4"
      },
      "source": [
        "Let's try targetting a larger QPU based on heavy-hexagon lattice IBM implemented. \n",
        "\n",
        "<img src=\"https://github.com/tbcdebug/OLSQ/blob/master/dac22/heavyhex.png?raw=1\" width=\"300\">"
      ]
    },
    {
      "cell_type": "code",
      "execution_count": 11,
      "metadata": {
        "colab": {
          "base_uri": "https://localhost:8080/"
        },
        "id": "L84F3nt2R-_4",
        "outputId": "803f9857-6dca-4d62-a3fa-8eb30ee79a1a"
      },
      "outputs": [
        {
          "name": "stdout",
          "output_type": "stream",
          "text": [
            "Trying maximal depth = 1...\n",
            "Trying maximal depth = 2...\n",
            "Compilation time = 0:00:02.588104.\n",
            "SWAP on physical edge (0,4) at time 0\n",
            "SWAP on physical edge (2,3) at time 0\n",
            "Gate 0: x 0 on qubit 2 at time 0\n",
            "Gate 1: x 1 on qubit 3 at time 0\n",
            "Gate 2: h 3 on qubit 0 at time 0\n",
            "Gate 3: cnot 2, 3 on qubits 4 and 0 at time 0\n",
            "Gate 4: t 0 on qubit 2 at time 0\n",
            "Gate 5: t 1 on qubit 3 at time 0\n",
            "Gate 6: t 2 on qubit 4 at time 0\n",
            "Gate 7: tdg 3 on qubit 0 at time 0\n",
            "Gate 8: cnot 0, 1 on qubits 2 and 3 at time 0\n",
            "Gate 9: cnot 2, 3 on qubits 4 and 0 at time 0\n",
            "Gate 10: cnot 3, 0 on qubits 4 and 3 at time 1\n",
            "Gate 11: cnot 1, 2 on qubits 3 and 4 at time 0\n",
            "Gate 12: cnot 0, 1 on qubits 3 and 2 at time 1\n",
            "Gate 13: cnot 2, 3 on qubits 0 and 4 at time 1\n",
            "Gate 14: tdg 0 on qubit 3 at time 1\n",
            "Gate 15: tdg 1 on qubit 2 at time 1\n",
            "Gate 16: tdg 2 on qubit 0 at time 1\n",
            "Gate 17: t 3 on qubit 4 at time 1\n",
            "Gate 18: cnot 0, 1 on qubits 3 and 2 at time 1\n",
            "Gate 19: cnot 2, 3 on qubits 0 and 4 at time 1\n",
            "Gate 20: s 3 on qubit 4 at time 1\n",
            "Gate 21: cnot 3, 0 on qubits 4 and 3 at time 1\n",
            "Gate 22: h 3 on qubit 4 at time 1\n",
            "result additional SWAP count = 2.\n"
          ]
        }
      ],
      "source": [
        "# use the transition-based model, should run much faster\n",
        "solver_transition = OLSQ(\"swap\", \"transition\")\n",
        "solver_transition.setdevice(qcdevice(\"heavy-hexagon\", nqubits=18, \n",
        "                                     connection=[(0,4), (1,2), (2,3), (3,4),\n",
        "                                                 (4,5), (5,6), (6,7), (2,8),\n",
        "                                                 (6,9), (10,11), (8,11),\n",
        "                                                 (11,12), (12,13), (13,14),\n",
        "                                                 (14,15), (15,16), (9,15),\n",
        "                                                 (13,17)], swap_duration=3))\n",
        "solver_transition.setprogram([4, gate_qubits, gate_name], input_mode=\"IR\")\n",
        "results_transition = solver_transition.solve(output_mode=\"IR\")"
      ]
    }
  ],
  "metadata": {
    "colab": {
      "name": "dac22.ipynb",
      "provenance": []
    },
    "gpuClass": "standard",
    "interpreter": {
      "hash": "31f2aee4e71d21fbe5cf8b01ff0e069b9275f58929596ceb00d14d90e3e16cd6"
    },
    "kernelspec": {
      "display_name": "Python 3.8.9 64-bit",
      "language": "python",
      "name": "python3"
    },
    "language_info": {
      "codemirror_mode": {
        "name": "ipython",
        "version": 3
      },
      "file_extension": ".py",
      "mimetype": "text/x-python",
      "name": "python",
      "nbconvert_exporter": "python",
      "pygments_lexer": "ipython3",
      "version": "3.9.10"
    },
    "orig_nbformat": 4
  },
  "nbformat": 4,
  "nbformat_minor": 0
}
